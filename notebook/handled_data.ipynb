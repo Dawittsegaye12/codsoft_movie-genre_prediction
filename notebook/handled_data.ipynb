{
 "cells": [
  {
   "cell_type": "code",
   "execution_count": 1,
   "metadata": {},
   "outputs": [],
   "source": [
    "import pandas as pd "
   ]
  },
  {
   "cell_type": "code",
   "execution_count": 3,
   "metadata": {},
   "outputs": [],
   "source": [
    "test = pd.read_pickle(r'C:\\Users\\SOOQ ELASER\\movie_genre_prediction\\dataset\\test_data.pkl')"
   ]
  },
  {
   "cell_type": "code",
   "execution_count": 4,
   "metadata": {},
   "outputs": [],
   "source": [
    "train = pd.read_pickle(r'C:\\Users\\SOOQ ELASER\\movie_genre_prediction\\dataset\\train_data.pkl')"
   ]
  },
  {
   "cell_type": "code",
   "execution_count": 5,
   "metadata": {},
   "outputs": [
    {
     "data": {
      "text/html": [
       "<div>\n",
       "<style scoped>\n",
       "    .dataframe tbody tr th:only-of-type {\n",
       "        vertical-align: middle;\n",
       "    }\n",
       "\n",
       "    .dataframe tbody tr th {\n",
       "        vertical-align: top;\n",
       "    }\n",
       "\n",
       "    .dataframe thead th {\n",
       "        text-align: right;\n",
       "    }\n",
       "</style>\n",
       "<table border=\"1\" class=\"dataframe\">\n",
       "  <thead>\n",
       "    <tr style=\"text-align: right;\">\n",
       "      <th></th>\n",
       "      <th>sentiment</th>\n",
       "      <th>word_count</th>\n",
       "      <th>char_count</th>\n",
       "      <th>genre_encoded</th>\n",
       "      <th>description_embedding</th>\n",
       "      <th>title_embedding</th>\n",
       "    </tr>\n",
       "  </thead>\n",
       "  <tbody>\n",
       "    <tr>\n",
       "      <th>56755</th>\n",
       "      <td>1</td>\n",
       "      <td>-0.262527</td>\n",
       "      <td>-0.412849</td>\n",
       "      <td>8</td>\n",
       "      <td>[0.32586848735809326]</td>\n",
       "      <td>[0.3000916838645935]</td>\n",
       "    </tr>\n",
       "    <tr>\n",
       "      <th>88311</th>\n",
       "      <td>1</td>\n",
       "      <td>0.172323</td>\n",
       "      <td>0.326750</td>\n",
       "      <td>7</td>\n",
       "      <td>[0.7990540266036987]</td>\n",
       "      <td>[0.4895133376121521]</td>\n",
       "    </tr>\n",
       "    <tr>\n",
       "      <th>50681</th>\n",
       "      <td>-1</td>\n",
       "      <td>-0.499718</td>\n",
       "      <td>-0.584744</td>\n",
       "      <td>8</td>\n",
       "      <td>[0.6969773769378662]</td>\n",
       "      <td>[0.3386976718902588]</td>\n",
       "    </tr>\n",
       "    <tr>\n",
       "      <th>48932</th>\n",
       "      <td>-1</td>\n",
       "      <td>-0.789617</td>\n",
       "      <td>-0.808660</td>\n",
       "      <td>5</td>\n",
       "      <td>[0.0]</td>\n",
       "      <td>[0.46769413352012634]</td>\n",
       "    </tr>\n",
       "    <tr>\n",
       "      <th>39301</th>\n",
       "      <td>1</td>\n",
       "      <td>-0.578781</td>\n",
       "      <td>-0.557603</td>\n",
       "      <td>5</td>\n",
       "      <td>[0.7869272232055664]</td>\n",
       "      <td>[4.435585428814272e-20]</td>\n",
       "    </tr>\n",
       "  </tbody>\n",
       "</table>\n",
       "</div>"
      ],
      "text/plain": [
       "       sentiment  word_count  char_count  genre_encoded  \\\n",
       "56755          1   -0.262527   -0.412849              8   \n",
       "88311          1    0.172323    0.326750              7   \n",
       "50681         -1   -0.499718   -0.584744              8   \n",
       "48932         -1   -0.789617   -0.808660              5   \n",
       "39301          1   -0.578781   -0.557603              5   \n",
       "\n",
       "       description_embedding          title_embedding  \n",
       "56755  [0.32586848735809326]     [0.3000916838645935]  \n",
       "88311   [0.7990540266036987]     [0.4895133376121521]  \n",
       "50681   [0.6969773769378662]     [0.3386976718902588]  \n",
       "48932                  [0.0]    [0.46769413352012634]  \n",
       "39301   [0.7869272232055664]  [4.435585428814272e-20]  "
      ]
     },
     "execution_count": 5,
     "metadata": {},
     "output_type": "execute_result"
    }
   ],
   "source": [
    "test.head()"
   ]
  },
  {
   "cell_type": "code",
   "execution_count": 7,
   "metadata": {},
   "outputs": [
    {
     "data": {
      "text/html": [
       "<div>\n",
       "<style scoped>\n",
       "    .dataframe tbody tr th:only-of-type {\n",
       "        vertical-align: middle;\n",
       "    }\n",
       "\n",
       "    .dataframe tbody tr th {\n",
       "        vertical-align: top;\n",
       "    }\n",
       "\n",
       "    .dataframe thead th {\n",
       "        text-align: right;\n",
       "    }\n",
       "</style>\n",
       "<table border=\"1\" class=\"dataframe\">\n",
       "  <thead>\n",
       "    <tr style=\"text-align: right;\">\n",
       "      <th></th>\n",
       "      <th>sentiment</th>\n",
       "      <th>word_count</th>\n",
       "      <th>char_count</th>\n",
       "      <th>genre_encoded</th>\n",
       "      <th>description_embedding</th>\n",
       "      <th>title_embedding</th>\n",
       "    </tr>\n",
       "  </thead>\n",
       "  <tbody>\n",
       "    <tr>\n",
       "      <th>76703</th>\n",
       "      <td>1</td>\n",
       "      <td>0.831186</td>\n",
       "      <td>0.799461</td>\n",
       "      <td>5</td>\n",
       "      <td>[0.688230574131012]</td>\n",
       "      <td>[0.29713815450668335]</td>\n",
       "    </tr>\n",
       "    <tr>\n",
       "      <th>45345</th>\n",
       "      <td>1</td>\n",
       "      <td>-0.394300</td>\n",
       "      <td>-0.354043</td>\n",
       "      <td>2</td>\n",
       "      <td>[0.7722437977790833]</td>\n",
       "      <td>[0.5647178292274475]</td>\n",
       "    </tr>\n",
       "    <tr>\n",
       "      <th>101961</th>\n",
       "      <td>1</td>\n",
       "      <td>0.119614</td>\n",
       "      <td>0.037243</td>\n",
       "      <td>24</td>\n",
       "      <td>[0.0]</td>\n",
       "      <td>[0.3381989300251007]</td>\n",
       "    </tr>\n",
       "    <tr>\n",
       "      <th>60893</th>\n",
       "      <td>1</td>\n",
       "      <td>-0.407477</td>\n",
       "      <td>-0.369876</td>\n",
       "      <td>5</td>\n",
       "      <td>[0.6543545722961426]</td>\n",
       "      <td>[0.4583265483379364]</td>\n",
       "    </tr>\n",
       "    <tr>\n",
       "      <th>80609</th>\n",
       "      <td>1</td>\n",
       "      <td>0.514931</td>\n",
       "      <td>0.595901</td>\n",
       "      <td>7</td>\n",
       "      <td>[0.5402078628540039]</td>\n",
       "      <td>[0.4926040768623352]</td>\n",
       "    </tr>\n",
       "  </tbody>\n",
       "</table>\n",
       "</div>"
      ],
      "text/plain": [
       "        sentiment  word_count  char_count  genre_encoded  \\\n",
       "76703           1    0.831186    0.799461              5   \n",
       "45345           1   -0.394300   -0.354043              2   \n",
       "101961          1    0.119614    0.037243             24   \n",
       "60893           1   -0.407477   -0.369876              5   \n",
       "80609           1    0.514931    0.595901              7   \n",
       "\n",
       "       description_embedding        title_embedding  \n",
       "76703    [0.688230574131012]  [0.29713815450668335]  \n",
       "45345   [0.7722437977790833]   [0.5647178292274475]  \n",
       "101961                 [0.0]   [0.3381989300251007]  \n",
       "60893   [0.6543545722961426]   [0.4583265483379364]  \n",
       "80609   [0.5402078628540039]   [0.4926040768623352]  "
      ]
     },
     "execution_count": 7,
     "metadata": {},
     "output_type": "execute_result"
    }
   ],
   "source": [
    "train.head()"
   ]
  },
  {
   "cell_type": "code",
   "execution_count": 9,
   "metadata": {},
   "outputs": [
    {
     "data": {
      "text/plain": [
       "(21683, 6)"
      ]
     },
     "execution_count": 9,
     "metadata": {},
     "output_type": "execute_result"
    }
   ],
   "source": [
    "test.shape"
   ]
  },
  {
   "cell_type": "code",
   "execution_count": 12,
   "metadata": {},
   "outputs": [
    {
     "data": {
      "text/plain": [
       "(86731, 6)"
      ]
     },
     "execution_count": 12,
     "metadata": {},
     "output_type": "execute_result"
    }
   ],
   "source": [
    "train.shape"
   ]
  },
  {
   "cell_type": "code",
   "execution_count": 19,
   "metadata": {},
   "outputs": [
    {
     "data": {
      "text/plain": [
       "np.int64(5)"
      ]
     },
     "execution_count": 19,
     "metadata": {},
     "output_type": "execute_result"
    }
   ],
   "source": [
    "test.apply(tuple, axis=1).duplicated().sum()"
   ]
  },
  {
   "cell_type": "code",
   "execution_count": 18,
   "metadata": {},
   "outputs": [
    {
     "data": {
      "text/plain": [
       "np.int64(105)"
      ]
     },
     "execution_count": 18,
     "metadata": {},
     "output_type": "execute_result"
    }
   ],
   "source": [
    "train.apply(tuple, axis=1).duplicated().sum()"
   ]
  },
  {
   "cell_type": "code",
   "execution_count": 20,
   "metadata": {},
   "outputs": [
    {
     "data": {
      "text/plain": [
       "sentiment                0\n",
       "word_count               0\n",
       "char_count               0\n",
       "genre_encoded            0\n",
       "description_embedding    0\n",
       "title_embedding          0\n",
       "dtype: int64"
      ]
     },
     "execution_count": 20,
     "metadata": {},
     "output_type": "execute_result"
    }
   ],
   "source": [
    "train.isnull().sum()"
   ]
  },
  {
   "cell_type": "code",
   "execution_count": 23,
   "metadata": {},
   "outputs": [
    {
     "data": {
      "text/plain": [
       "sentiment                0\n",
       "word_count               0\n",
       "char_count               0\n",
       "genre_encoded            0\n",
       "description_embedding    0\n",
       "title_embedding          0\n",
       "dtype: int64"
      ]
     },
     "execution_count": 23,
     "metadata": {},
     "output_type": "execute_result"
    }
   ],
   "source": [
    "test.isnull().sum()"
   ]
  },
  {
   "cell_type": "code",
   "execution_count": null,
   "metadata": {},
   "outputs": [],
   "source": []
  }
 ],
 "metadata": {
  "kernelspec": {
   "display_name": "Python 3",
   "language": "python",
   "name": "python3"
  },
  "language_info": {
   "codemirror_mode": {
    "name": "ipython",
    "version": 3
   },
   "file_extension": ".py",
   "mimetype": "text/x-python",
   "name": "python",
   "nbconvert_exporter": "python",
   "pygments_lexer": "ipython3",
   "version": "3.12.5"
  }
 },
 "nbformat": 4,
 "nbformat_minor": 2
}
